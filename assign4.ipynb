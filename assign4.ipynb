{
  "nbformat": 4,
  "nbformat_minor": 0,
  "metadata": {
    "colab": {
      "provenance": [],
      "authorship_tag": "ABX9TyMVnqnexpFHMnXe8izJA6EV",
      "include_colab_link": true
    },
    "kernelspec": {
      "name": "python3",
      "display_name": "Python 3"
    },
    "language_info": {
      "name": "python"
    }
  },
  "cells": [
    {
      "cell_type": "markdown",
      "metadata": {
        "id": "view-in-github",
        "colab_type": "text"
      },
      "source": [
        "<a href=\"https://colab.research.google.com/github/sadiatanzeel33/assign-4qtr2/blob/main/assign4.ipynb\" target=\"_parent\"><img src=\"https://colab.research.google.com/assets/colab-badge.svg\" alt=\"Open In Colab\"/></a>"
      ]
    },
    {
      "cell_type": "code",
      "execution_count": null,
      "metadata": {
        "colab": {
          "base_uri": "https://localhost:8080/"
        },
        "id": "lG2A9OgXfi4j",
        "outputId": "2b178764-ccd4-4eaf-ffa1-8df16cc07269"
      },
      "outputs": [
        {
          "output_type": "stream",
          "name": "stdout",
          "text": [
            "Enter the first number: 10\n",
            "Enter the second number: 10\n",
            "The sum of 10 and 10 is 20.\n"
          ]
        }
      ],
      "source": [
        "def main():\n",
        "    # Prompt the user to enter the first number\n",
        "    first_number = int(input(\"Enter the first number: \"))\n",
        "\n",
        "    # Prompt the user to enter the second number\n",
        "    second_number = int(input(\"Enter the second number: \"))\n",
        "\n",
        "    # Calculate the sum of the two numbers\n",
        "    total_sum = first_number + second_number\n",
        "\n",
        "    # Print the total sum with an appropriate message\n",
        "    print(f\"The sum of {first_number} and {second_number} is {total_sum}.\")\n",
        "\n",
        "# Call the main function\n",
        "if __name__ == \"__main__\":\n",
        "    main()\n",
        "\n"
      ]
    },
    {
      "cell_type": "code",
      "source": [],
      "metadata": {
        "id": "rF961R7pl8j-"
      },
      "execution_count": null,
      "outputs": []
    },
    {
      "cell_type": "code",
      "source": [],
      "metadata": {
        "id": "Q37wHW_1qeWz"
      },
      "execution_count": null,
      "outputs": []
    },
    {
      "cell_type": "code",
      "source": [
        "# Ask the user for their favorite animal\n",
        "favorite_animal = input(\"What's your favorite animal? \")\n",
        "\n",
        "# Respond with the user's favorite animal\n",
        "print(f\"My favorite animal is also {favorite_animal}!\")\n"
      ],
      "metadata": {
        "colab": {
          "base_uri": "https://localhost:8080/"
        },
        "id": "4z6PgqRug8zs",
        "outputId": "da950799-d970-4dec-bafb-5aeda1a46baf"
      },
      "execution_count": null,
      "outputs": [
        {
          "output_type": "stream",
          "name": "stdout",
          "text": [
            "What's your favorite animal? lion\n",
            "My favorite animal is also lion!\n"
          ]
        }
      ]
    },
    {
      "cell_type": "code",
      "source": [
        "# Prompt the user to enter a temperature in Fahrenheit\n",
        "degrees_fahrenheit = float(input(\"Enter temperature in Fahrenheit: \"))\n",
        "\n",
        "# Perform the conversion to Celsius\n",
        "degrees_celsius = (degrees_fahrenheit - 32) * 5.0 / 9.0\n",
        "\n",
        "# Output the result\n",
        "print(f\"Temperature: {degrees_fahrenheit:.1f}F = {degrees_celsius:.15f}C\")\n"
      ],
      "metadata": {
        "colab": {
          "base_uri": "https://localhost:8080/"
        },
        "id": "8RjLuaPfiIyv",
        "outputId": "ac6755f0-028f-4f61-8dc8-1775e4211cf0"
      },
      "execution_count": null,
      "outputs": [
        {
          "output_type": "stream",
          "name": "stdout",
          "text": [
            "Enter temperature in Fahrenheit: 5.0\n",
            "Temperature: 5.0F = -15.000000000000000C\n"
          ]
        }
      ]
    },
    {
      "cell_type": "code",
      "source": [
        "# Store each person's age in a variable\n",
        "anton_age = 21\n",
        "beth_age = anton_age + 6\n",
        "chen_age = beth_age + 20\n",
        "drew_age = chen_age + anton_age\n",
        "ethan_age = chen_age\n",
        "\n",
        "# Print their names and ages\n",
        "print(f\"Anton is {anton_age}\")\n",
        "print(f\"Beth is {beth_age}\")\n",
        "print(f\"Chen is {chen_age}\")\n",
        "print(f\"Drew is {drew_age}\")\n",
        "print(f\"Ethan is {ethan_age}\")\n"
      ],
      "metadata": {
        "colab": {
          "base_uri": "https://localhost:8080/"
        },
        "id": "fVcMhDrnj96Q",
        "outputId": "ca725b90-05f9-4742-8d4f-0d08345d4414"
      },
      "execution_count": null,
      "outputs": [
        {
          "output_type": "stream",
          "name": "stdout",
          "text": [
            "Anton is 21\n",
            "Beth is 27\n",
            "Chen is 47\n",
            "Drew is 68\n",
            "Ethan is 47\n"
          ]
        }
      ]
    },
    {
      "cell_type": "code",
      "source": [],
      "metadata": {
        "id": "AqNuZeWtlb-8"
      },
      "execution_count": null,
      "outputs": []
    },
    {
      "cell_type": "code",
      "source": [
        "def main():\n",
        "    # Get the 3 side lengths of the triangle\n",
        "    side1: float = float(input(\"What is the length of side 1? \"))\n",
        "    side2: float = float(input(\"What is the length of side 2? \"))\n",
        "    side3: float = float(input(\"What is the length of side 3? \"))\n",
        "\n",
        "    # Print out the perimeter (sum of the sides) of the triangle, make sure to cast it to a str when concatenating!\n",
        "    print(\"The perimeter of the triangle is \" + str(side1 + side2 + side3))\n",
        "\n",
        "\n",
        "# There is no need to edit code beyond this point\n",
        "\n",
        "if __name__ == '__main__':\n",
        "    main()"
      ],
      "metadata": {
        "colab": {
          "base_uri": "https://localhost:8080/"
        },
        "id": "M02CJENikjca",
        "outputId": "b65bdfa1-85cd-4621-d261-3d4e10a7f2e3"
      },
      "execution_count": null,
      "outputs": [
        {
          "output_type": "stream",
          "name": "stdout",
          "text": [
            "What is the length of side 1? 5\n",
            "What is the length of side 2? 5\n",
            "What is the length of side 3? 5\n",
            "The perimeter of the triangle is 15.0\n"
          ]
        }
      ]
    },
    {
      "cell_type": "code",
      "source": [
        "def main():\n",
        "    num: float = float(input(\"Type a number to see its square: \")) # Make sure to cast the input to a float so we can do math with it!\n",
        "    print(str(num) + \" squared is \" + str(num ** 2)) # num * num is equivalent to num ** 2. The ** operator raises something to a power!\n",
        "\n",
        "\n",
        "# There is no need to edit code beyond this point\n",
        "\n",
        "if __name__ == '__main__':\n",
        "    main()"
      ],
      "metadata": {
        "colab": {
          "base_uri": "https://localhost:8080/"
        },
        "id": "G1UwpGZIktvm",
        "outputId": "735c5e14-81aa-4ac5-a79a-9cd545cc093b"
      },
      "execution_count": null,
      "outputs": [
        {
          "output_type": "stream",
          "name": "stdout",
          "text": [
            "Type a number to see its square: 4\n",
            "4.0 squared is 16.0\n"
          ]
        }
      ]
    }
  ]
}